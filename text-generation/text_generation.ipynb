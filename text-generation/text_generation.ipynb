{
 "cells": [
  {
   "cell_type": "markdown",
   "metadata": {
    "collapsed": true
   },
   "source": [
    "Text Generation\n",
    "\n",
    "Associated Medium Post: https://medium.com/@kevin_guo/text-generation-7bfbb76ec854\n",
    "Try it: http://kevins.fun/projects/text-gen/"
   ]
  },
  {
   "cell_type": "code",
   "execution_count": null,
   "metadata": {
    "collapsed": true
   },
   "outputs": [],
   "source": [
    "import numpy as np\n",
    "import string\n",
    "\n",
    "from keras.models import Sequential\n",
    "from keras.layers import LSTM, Dropout, Activation, Dense\n",
    "from keras.callbacks import ModelCheckpoint\n",
    "\n",
    "characters = list(string.printable)\n",
    "sequence_length = 60\n",
    "batch_size = 512\n",
    "\n",
    "char_dict = {c:i for i,c in enumerate(characters)}\n",
    "print(\"Number of Characters = \", len(characters))\n",
    "\n",
    "def batch_generator(text, count):\n",
    "    while True:\n",
    "        for batch_ix in range(count):\n",
    "            X = np.zeros((batch_size, sequence_length, len(characters)))\n",
    "            y = np.zeros((batch_size, len(characters)))\n",
    "\n",
    "            batch_offset = batch_size * batch_ix\n",
    "\n",
    "            for sample_ix in range(batch_size):\n",
    "                sample_start = batch_offset + sample_ix\n",
    "                for s in range(sequence_length):\n",
    "                    X[sample_ix, s, char_dict[text[sample_start+s]]] = 1\n",
    "                    y[sample_ix, char_dict[text[sample_start+s+1]]]=1\n",
    "            yield X, y\n"
   ]
  },
  {
   "cell_type": "code",
   "execution_count": null,
   "metadata": {
    "collapsed": true
   },
   "outputs": [],
   "source": [
    "train_file = \"chemprot_training_abstracts.tsv\"\n",
    "val_file = \"chemprot_test_abstracts.tsv\"\n",
    "\n",
    "with open(train_file, \"r\") as f:\n",
    "    text_train = f.read()\n",
    "    s = \"\"\n",
    "    for i in range(len(text_train)):\n",
    "      if text_train[i] in characters: # only use allowed characters\n",
    "        s += text_train[i]\n",
    "    text_train = s\n",
    "with open(val_file, \"r\") as f:\n",
    "    text_val = f.read()\n",
    "    s = \"\"\n",
    "    for i in range(len(text_train)):\n",
    "      if text_val[i] in characters: # only use allowed characters\n",
    "        s += text_val[i]\n",
    "    text_val = s\n",
    "\n",
    "print(\"Total of\", len(text_train) + len(text_val), \"characters\")\n",
    "\n",
    "train_batch_count = (len(text_train) - sequence_length) // batch_size\n",
    "val_batch_count = (len(text_val) - sequence_length) // batch_size\n",
    "print(\"Training batch count: \", train_batch_count)\n",
    "print(\"Validation batch count: \",  val_batch_count)"
   ]
  },
  {
   "cell_type": "code",
   "execution_count": null,
   "metadata": {
    "collapsed": true
   },
   "outputs": [],
   "source": [
    "model = Sequential()\n",
    "model.add(LSTM(512, return_sequences=True, input_shape=(sequence_length, len(characters))))\n",
    "model.add(Dropout(0.2))\n",
    "model.add(LSTM(512, return_sequences=True, input_shape=(sequence_length, len(characters))))\n",
    "model.add(Dropout(0.2))\n",
    "model.add(LSTM(512, return_sequences=True, input_shape=(sequence_length, len(characters))))\n",
    "model.add(Dropout(0.2))\n",
    "model.add(LSTM(512, return_sequences=False, input_shape=(sequence_length, len(characters))))\n",
    "model.add(Dropout(0.2))\n",
    "model.add(Dense(len(characters)))\n",
    "model.add(Activation('softmax'))\n",
    "model.compile(loss='categorical_crossentropy', optimizer=\"adam\")"
   ]
  },
  {
   "cell_type": "code",
   "execution_count": null,
   "metadata": {
    "collapsed": true
   },
   "outputs": [],
   "source": [
    "model.fit_generator(\n",
    "    batch_generator(text_train, count=train_batch_count), train_batch_count, epochs=25,\n",
    "    callbacks=[ModelCheckpoint(\"./epoch{epoch:02d}-val-loss{val_loss:.4f}_weights\", save_weights_only=True)],\n",
    "    validation_data=batch_generator(text_val, count=val_batch_count), validation_steps=val_batch_count\n",
    ")"
   ]
  }
 ],
 "metadata": {
  "kernelspec": {
   "display_name": "Python 2",
   "language": "python",
   "name": "python2"
  },
  "language_info": {
   "codemirror_mode": {
    "name": "ipython",
    "version": 2
   },
   "file_extension": ".py",
   "mimetype": "text/x-python",
   "name": "python",
   "nbconvert_exporter": "python",
   "pygments_lexer": "ipython2",
   "version": "2.7.6"
  }
 },
 "nbformat": 4,
 "nbformat_minor": 0
}
