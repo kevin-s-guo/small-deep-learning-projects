{
 "cells": [
  {
   "cell_type": "markdown",
   "metadata": {
    "collapsed": true
   },
   "source": [
    "This project will involve convolutional neural networks.\n",
    "\n",
    "I'm using the 4th ETL Character Database, a large database of written characters from Japanese. \n",
    "\n",
    "Official labels are four character strings, where the first two denotes the script (this subset of the database only contains Hiragana) and the last two the romanized form (of which there are 51 possible)."
   ]
  },
  {
   "cell_type": "code",
   "execution_count": null,
   "metadata": {
    "collapsed": false
   },
   "outputs": [],
   "source": [
    "# Set up keras\n",
    "\n",
    "import keras\n",
    "from keras.preprocessing.image import ImageDataGenerator\n",
    "keras.__version__"
   ]
  },
  {
   "cell_type": "code",
   "execution_count": null,
   "metadata": {
    "collapsed": false
   },
   "outputs": [],
   "source": [
    "train_datagen = ImageDataGenerator(rescale=1./255) \n",
    "\n",
    "train_generator = train_datagen.flow_from_directory(directory='data/train',target_size=(72, 76),batch_size=10, \n",
    "                                                           class_mode='categorical')\n",
    "test_generator = ImageDataGenerator(rescale=1./255).flow_from_directory(directory='data/test',target_size=(72, 76),batch_size=10, \n",
    "                                                          class_mode='categorical')\n"
   ]
  },
  {
   "cell_type": "code",
   "execution_count": 17,
   "metadata": {},
   "outputs": [],
   "source": [
    "from keras import models, layers\n",
    "\n",
    "model = models.Sequential()\n",
    "model.add(layers.Conv2D(64, (3, 3), activation='relu', input_shape=train_generator.image_shape))\n",
    "model.add(layers.MaxPooling2D((2, 2)))\n",
    "model.add(layers.Conv2D(64, (3, 3), activation='relu'))\n",
    "model.add(layers.MaxPooling2D((2, 2)))\n",
    "model.add(layers.Conv2D(64, (3, 3), activation='relu'))\n",
    "model.add(layers.MaxPooling2D((2, 2)))\n",
    "model.add(layers.Conv2D(64, (3, 3), activation='relu'))\n",
    "model.add(layers.Flatten())\n",
    "model.add(layers.Dense(128, activation='relu'))\n",
    "model.add(layers.Dropout(0.5))\n",
    "model.add(layers.Dense(51, activation='softmax'))\n",
    "\n",
    "model.compile(optimizer='adadelta',loss='categorical_crossentropy',metrics=['accuracy'])"
   ]
  },
  {
   "cell_type": "code",
   "execution_count": null,
   "metadata": {},
   "outputs": [],
   "source": [
    "model.fit_generator(train_generator,epochs=25,steps_per_epoch=train_generator.samples / train_generator.batch_size, \n",
    "                    validation_data=test_generator, validation_steps=test_generator.samples / test_generator.batch_size)\n",
    "model.save('models/hiragana_etl4.hdf5')"
   ]
  },
  {
   "cell_type": "code",
   "execution_count": 74,
   "metadata": {},
   "outputs": [
    {
     "name": "stdout",
     "output_type": "stream",
     "text": [
      "Found 8448 images belonging to 66 classes.\n"
     ]
    },
    {
     "name": "stdout",
     "output_type": "stream",
     "text": [
      "Found 2112 images belonging to 66 classes.\n"
     ]
    }
   ],
   "source": [
    "train_datagen2 = ImageDataGenerator(rescale=1./255) \n",
    "train_generator2 = train_datagen2.flow_from_directory(directory='data2/train',target_size=(64, 64),batch_size=10, \n",
    "                                                           class_mode='categorical')\n",
    "test_generator2 = ImageDataGenerator(rescale=1./255).flow_from_directory(directory='data2/test',target_size=(64, 64),batch_size=10, \n",
    "                                                          class_mode='categorical')"
   ]
  },
  {
   "cell_type": "code",
   "execution_count": 77,
   "metadata": {},
   "outputs": [
    {
     "name": "stdout",
     "output_type": "stream",
     "text": [
      "_________________________________________________________________\nLayer (type)                 Output Shape              Param #   \n=================================================================\nconv2d_25 (Conv2D)           (None, 62, 62, 64)        1792      \n_________________________________________________________________\nmax_pooling2d_19 (MaxPooling (None, 31, 31, 64)        0         \n_________________________________________________________________\nconv2d_26 (Conv2D)           (None, 29, 29, 64)        36928     \n_________________________________________________________________\nmax_pooling2d_20 (MaxPooling (None, 14, 14, 64)        0         \n_________________________________________________________________\nconv2d_27 (Conv2D)           (None, 12, 12, 64)        36928     \n_________________________________________________________________\nmax_pooling2d_21 (MaxPooling (None, 6, 6, 64)          0         \n_________________________________________________________________\nconv2d_28 (Conv2D)           (None, 4, 4, 64)          36928     \n_________________________________________________________________\nflatten_7 (Flatten)          (None, 1024)              0         \n_________________________________________________________________\ndense_13 (Dense)             (None, 128)               131200    \n_________________________________________________________________\ndropout_7 (Dropout)          (None, 128)               0         \n_________________________________________________________________\ndense_14 (Dense)             (None, 66)                8514      \n=================================================================\nTotal params: 252,290\nTrainable params: 252,290\nNon-trainable params: 0\n_________________________________________________________________\n"
     ]
    }
   ],
   "source": [
    "model = models.Sequential()\n",
    "model.add(layers.Conv2D(64, (3, 3), activation='relu', input_shape=train_generator2.image_shape))\n",
    "model.add(layers.MaxPooling2D((2, 2)))\n",
    "model.add(layers.Conv2D(64, (3, 3), activation='relu'))\n",
    "model.add(layers.MaxPooling2D((2, 2)))\n",
    "model.add(layers.Conv2D(64, (3, 3), activation='relu'))\n",
    "model.add(layers.MaxPooling2D((2, 2)))\n",
    "model.add(layers.Conv2D(64, (3, 3), activation='relu'))\n",
    "model.add(layers.Flatten())\n",
    "model.add(layers.Dense(128, activation='relu'))\n",
    "model.add(layers.Dropout(0.5))\n",
    "model.add(layers.Dense(66, activation='softmax'))\n",
    "\n",
    "model.compile(optimizer='adadelta',loss='categorical_crossentropy',metrics=['accuracy'])"
   ]
  },
  {
   "cell_type": "code",
   "execution_count": null,
   "metadata": {},
   "outputs": [],
   "source": [
    "model.fit_generator(train_generator2,epochs=25,steps_per_epoch=train_generator2.samples / train_generator2.batch_size, \n",
    "                    validation_data=test_generator2, validation_steps=test_generator2.samples / test_generator2.batch_size)\n",
    "model.save('models/hiragana_etl8g.hdf5')"
   ]
  }
 ],
 "metadata": {
  "kernelspec": {
   "display_name": "Python 2",
   "language": "python",
   "name": "python2"
  },
  "language_info": {
   "codemirror_mode": {
    "name": "ipython",
    "version": 2
   },
   "file_extension": ".py",
   "mimetype": "text/x-python",
   "name": "python",
   "nbconvert_exporter": "python",
   "pygments_lexer": "ipython2",
   "version": "2.7.6"
  }
 },
 "nbformat": 4,
 "nbformat_minor": 0
}
